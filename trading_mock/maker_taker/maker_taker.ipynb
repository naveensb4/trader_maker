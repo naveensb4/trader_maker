{
 "cells": [
  {
   "cell_type": "code",
   "execution_count": 1,
   "metadata": {},
   "outputs": [],
   "source": [
    "from maker_taker_base import Game, Taker, Maker\n",
    "from sample_traders import CenterMaker, GreedyTaker, FaderMaker\n",
    "import pandas as pd\n",
    "import statistics"
   ]
  },
  {
   "cell_type": "code",
   "execution_count": 2,
   "metadata": {},
   "outputs": [],
   "source": [
    "from dataclasses import dataclass\n",
    "\n",
    "\n",
    "@dataclass\n",
    "class SimResults:\n",
    "    mean_pnl: float\n",
    "    std_pnl: float\n",
    "    tstat: float\n",
    "    maker_pnl: list\n",
    "\n",
    "def run_one_sim(taker, maker, seed = 0):\n",
    "    return Game(taker, maker).runGame()\n",
    "\n",
    "def run_sims(taker, maker, n = 100):\n",
    "    maker_pnl = []\n",
    "    for sim in range(n):\n",
    "        maker_pnl.append(run_one_sim(taker,maker)['maker_pnl'])\n",
    "    return SimResults(statistics.mean(maker_pnl), statistics.stdev(maker_pnl), statistics.mean(maker_pnl)/statistics.stdev(maker_pnl), maker_pnl)\n",
    "    "
   ]
  },
  {
   "cell_type": "code",
   "execution_count": 4,
   "metadata": {},
   "outputs": [
    {
     "data": {
      "text/plain": [
       "SimResults(mean_pnl=-34.95, std_pnl=33.732571257411784, tstat=-1.036090600188704, maker_pnl=[-39, 3, -93, -93, -90, -5, -24, -36, -66, -8, -18, -13, 2, -96, 1, -6, -99, -81, -78, -14, -66, -15, -48, -30, 2, -30, -27, -93, -5, -48, -10, 4, -10, -30, -42, -75, 4, -3, -75, -10, -10, -90, -13, -81, 4, 1, -78, -18, 1, -39, 0, -39, -60, -81, -27, -63, -60, -3, -51, -24, -81, -3, -99, -39, -2, -36, 5, -105, -8, -60, 1, -48, -33, -1, -69, -96, -8, -69, -66, -51, 3, -57, -11, -1, -102, -57, -2, -10, 3, -45, 2, -15, -7, -7, 3, -63, -39, -8, -18, -5])"
      ]
     },
     "metadata": {},
     "output_type": "display_data"
    },
    {
     "name": "stdout",
     "output_type": "stream",
     "text": [
      "CPU times: user 9.76 ms, sys: 2.65 ms, total: 12.4 ms\n",
      "Wall time: 12.2 ms\n"
     ]
    }
   ],
   "source": [
    "%%time\n",
    "# display(run_sims(GreedyTaker, CenterMaker))\n",
    "display(run_sims(GreedyTaker, FaderMaker))"
   ]
  },
  {
   "cell_type": "code",
   "execution_count": null,
   "metadata": {},
   "outputs": [],
   "source": []
  }
 ],
 "metadata": {
  "kernelspec": {
   "display_name": "Python 3 (ipykernel)",
   "language": "python",
   "name": "python3"
  },
  "language_info": {
   "codemirror_mode": {
    "name": "ipython",
    "version": 3
   },
   "file_extension": ".py",
   "mimetype": "text/x-python",
   "name": "python",
   "nbconvert_exporter": "python",
   "pygments_lexer": "ipython3",
   "version": "3.9.12"
  },
  "vscode": {
   "interpreter": {
    "hash": "31f2aee4e71d21fbe5cf8b01ff0e069b9275f58929596ceb00d14d90e3e16cd6"
   }
  }
 },
 "nbformat": 4,
 "nbformat_minor": 2
}
